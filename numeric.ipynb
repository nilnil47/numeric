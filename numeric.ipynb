{
 "cells": [
  {
   "cell_type": "code",
   "execution_count": null,
   "metadata": {},
   "outputs": [],
   "source": [
    "import numpy as np\n",
    "import plotly.express as px\n",
    "import pandas as pd"
   ]
  },
  {
   "attachments": {},
   "cell_type": "markdown",
   "metadata": {},
   "source": [
    "## part 1"
   ]
  },
  {
   "cell_type": "code",
   "execution_count": null,
   "metadata": {},
   "outputs": [],
   "source": [
    "def grad_n(r: np.array) -> np.array:\n",
    "    grad_n = -2 / (sum(r**2) ** (3/2)) * r\n",
    "    return grad_n\n",
    "\n",
    "def n(r: np.array) -> float:\n",
    "    n_ = 1 + 1 / sum(r**2)\n",
    "    return n_\n",
    "\n",
    "\n",
    "# def n(r: np.array) -> tuple((np.array,np.array)):\n",
    "#     r_2 = sum(r^2)\n",
    "#     r_4 = r_2^2\n",
    "\n",
    "#     n_ = 1 + 1 / r_2\n",
    "#     grad_n = -2 * r / r_4\n",
    "    \n",
    "    \n",
    "#     return n_, grad_n\n",
    "\n",
    "def step(r: np.array, v: np.array, s: np.array, l: np.array, i:int):\n",
    "    # n_, grad_n = n(r)\n",
    "\n",
    "    r[i+1] = r[i] + v[i] * s[i]\n",
    "    v[i+1] = (grad_n(r[i]) * s[i] + n(r[i]) * v[i]) / n(r[i+1])\n",
    "    s[i+1] =  np.linalg.norm(r[i+1] - r[i])\n",
    "\n",
    "    l[i] = np.linalg.norm(r[i+1] - r[i]) / s[i]\n",
    "    return r, v, s , l\n",
    "\n",
    "\n",
    "x0 = 500\n",
    "z0 = 1000\n",
    "alpha0 = np.deg2rad(5) # deg \n",
    "vx0 = np.sin(alpha0)\n",
    "vz0 = -np.cos(alpha0)\n",
    "s0 = 1\n",
    "\n",
    "epochs = 1500\n",
    "\n",
    "r = np.zeros((epochs, 2))\n",
    "v = np.zeros((epochs, 2))\n",
    "s = np.zeros(epochs)\n",
    "l = np.zeros(epochs)\n",
    "\n",
    "r[0] = [x0, z0]\n",
    "v[0] = [vx0, vz0]\n",
    "s[0] = s0\n",
    "s[1] = s0\n",
    "\n",
    "for i in range(epochs -1):\n",
    "    r, v, s, l = step(r, v, s, l, i)\n",
    "\n",
    "df = pd.DataFrame({ 's': s, 'x': r[:, 0], 'z': r[:, 1] ,'vx': v[:, 0], 'vz': v[:, 1], 'l': l})\n",
    "\n",
    "fig = px.line(x=r[:,0], y=r[:,1])\n",
    "\n",
    "thory_line = np.array([\n",
    "    r[0],\n",
    "    r[0] + v[0] * epochs\n",
    "])\n",
    "fig.add_scatter(x=thory_line[:,0], y=thory_line[:,1])\n",
    "delta_alpha = np.arccos(np.dot(v[0], v[-1]) / (np.linalg.norm(v[0]) * np.linalg.norm(v[-1])))\n",
    "delta_alpha_theory = 2 / x0\n",
    "error = np.abs(delta_alpha - delta_alpha_theory) / delta_alpha\n",
    "print(f\"error: {error}\")\n",
    "print(f\"delta_alpha: {np.rad2deg(delta_alpha)}\")\n",
    "print(f\"delta_alpha_theory: {np.rad2deg(delta_alpha_theory)}\")\n",
    "\n",
    "fig.show()\n",
    "df"
   ]
  },
  {
   "cell_type": "code",
   "execution_count": null,
   "metadata": {},
   "outputs": [],
   "source": [
    "thory_line"
   ]
  },
  {
   "cell_type": "code",
   "execution_count": null,
   "metadata": {},
   "outputs": [],
   "source": []
  }
 ],
 "metadata": {
  "kernelspec": {
   "display_name": "Python 3",
   "language": "python",
   "name": "python3"
  },
  "language_info": {
   "codemirror_mode": {
    "name": "ipython",
    "version": 3
   },
   "file_extension": ".py",
   "mimetype": "text/x-python",
   "name": "python",
   "nbconvert_exporter": "python",
   "pygments_lexer": "ipython3",
   "version": "3.10.9"
  },
  "orig_nbformat": 4,
  "vscode": {
   "interpreter": {
    "hash": "949777d72b0d2535278d3dc13498b2535136f6dfe0678499012e853ee9abcab1"
   }
  }
 },
 "nbformat": 4,
 "nbformat_minor": 2
}
