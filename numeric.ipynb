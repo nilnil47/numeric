{
 "cells": [
  {
   "cell_type": "code",
   "execution_count": null,
   "metadata": {},
   "outputs": [],
   "source": [
    "import numpy as np\n",
    "import plotly.express as px\n",
    "import pandas as pd"
   ]
  },
  {
   "attachments": {},
   "cell_type": "markdown",
   "metadata": {},
   "source": [
    "## part 1"
   ]
  },
  {
   "cell_type": "code",
   "execution_count": null,
   "metadata": {},
   "outputs": [],
   "source": [
    "def grad_n(r: np.array) -> np.array:\n",
    "    grad_n = -2 / (sum(r**2) ** (3/2)) * r\n",
    "    return grad_n\n",
    "\n",
    "def n(r: np.array) -> float:\n",
    "    n_ = 1 + 1 / np.linalg.norm(r)\n",
    "    return n_\n",
    "\n",
    "\n",
    "def step(r: np.array, v: np.array, s: np.array, l: np.array, i:int):\n",
    "    # n_, grad_n = n(r)\n",
    "\n",
    "    r[i+1] = r[i] + v[i] * s[i]\n",
    "    v[i+1] = (grad_n(r[i]) * s[i] + n(r[i]) * v[i]) / n(r[i+1])\n",
    "    s[i+1] =  np.linalg.norm(r[i+1] - r[i])\n",
    "\n",
    "    l[i] = np.linalg.norm(r[i+1] - r[i]) / s[i]\n",
    "    return r, v, s , l\n",
    "\n",
    "def cut_all_zeros(n, *args):\n",
    "    clean_args = []\n",
    "    for arg in args:\n",
    "        clean_args.append(args[:n])\n",
    "    return tuple(clean_args)\n",
    "\n",
    "def solve(x0, z0, alpha0, s0, epochs, z_stop_condition=None, display=False):\n",
    "    vx0 = np.sin(alpha0)\n",
    "    vz0 = -np.cos(alpha0)\n",
    "\n",
    "    r = np.zeros((epochs, 2))\n",
    "    v = np.zeros((epochs, 2))\n",
    "    s = np.zeros(epochs)\n",
    "    l = np.zeros(epochs)\n",
    "\n",
    "    r[0] = [x0, z0]\n",
    "    v[0] = [vx0, vz0]\n",
    "    s[0] = s0\n",
    "    s[1] = s0\n",
    "\n",
    "    for i in range(epochs -1):\n",
    "        r, v, s, l = step(r, v, s, l, i)\n",
    "\n",
    "        if z_stop_condition != None and r[i+1, 1] < z_stop_condition:\n",
    "            print(f'Epoch: {i}')\n",
    "            r = r[:i+1]\n",
    "            v = v[:i+1]\n",
    "            s = s[:i+1]\n",
    "            break\n",
    "    \n",
    "    if display:\n",
    "        fig = px.line(x=r[:,0], y=r[:,1], labels={'x': 'numeric'})\n",
    "\n",
    "        thory_line = np.array([\n",
    "            r[0],\n",
    "            r[0] + v[0] * 1000,\n",
    "        ])\n",
    "        fig.add_scatter(x=thory_line[:,0], y=thory_line[:,1], name=\"Theory\")\n",
    "        fig.show()\n",
    "        \n",
    "    return r, v, s"
   ]
  },
  {
   "cell_type": "code",
   "execution_count": null,
   "metadata": {},
   "outputs": [],
   "source": [
    "# The been curve for 2 deg\n",
    "# I define the z_stop_condition to stop the simulation when the been is fully turnerd\n",
    "x0 = 0\n",
    "z0 = 1000\n",
    "alpha0 = np.deg2rad(1) # deg \n",
    "vx0 = np.sin(alpha0)\n",
    "vz0 = -np.cos(alpha0)\n",
    "s0 = 1\n",
    "epochs = 1000\n",
    "\n",
    "r, v, s = solve(x0, z0, alpha0, s0, epochs, z_stop_condition=0, display=False)\n",
    "fig = px.line(x=r[:,0], y=r[:,1], labels={'x': 'numeric'})\n",
    "\n",
    "thory_line = np.array([\n",
    "    r[0],\n",
    "    r[0] + v[0] * 1000,\n",
    "])\n",
    "\n",
    "fig.add_scatter(x=thory_line[:,0], y=thory_line[:,1], name=\"Theory\", )\n",
    "\n",
    "fig.update_layout({\n",
    "    'xaxis_title': 'x',\n",
    "    'yaxis_title': 'z',\n",
    "    'title': 'Been curve for 2 deg',\n",
    "    # 'legend_title': 'Legend Title',\n",
    "    'font': {\n",
    "        'size': 16,\n",
    "    },\n",
    "    'width': 800  ,\n",
    "    'height': 600,\n",
    "    # 'showlegend': False,\n",
    "    # 'grid': {}\n",
    "        \n",
    "    # 'template': 'plotly_white'\n",
    "})\n",
    "\n",
    "fig.show()\n",
    "\n",
    "# fig.write_image(\"fructose.eps\")"
   ]
  },
  {
   "attachments": {},
   "cell_type": "markdown",
   "metadata": {},
   "source": [
    "### B"
   ]
  },
  {
   "cell_type": "code",
   "execution_count": null,
   "metadata": {},
   "outputs": [],
   "source": [
    "# from thory calculation\n",
    "def calculate_angle_shift(alpha0):\n",
    "    vx0 = np.sin(alpha0)\n",
    "    vz0 = -np.cos(alpha0)\n",
    "    \n",
    "    b = -z0 * vx0/ vz0 \n",
    "    print(f'deg = {alpha0} b: {b}')\n",
    "    \n",
    "\n",
    "    r, v, s = solve(x0=0, z0=1000, alpha0=alpha0, s0=1, epochs=1000, z_stop_condition=0, display=True)\n",
    "    delta_alpha = np.rad2deg(np.arccos(np.dot(v[0], v[-1]) / (np.linalg.norm(v[0]) * np.linalg.norm(v[-1]))))\n",
    "    delta_alpha_theory = 2 / b\n",
    "    error = np.abs(delta_alpha - delta_alpha_theory) / delta_alpha\n",
    "    print(f'delta_alpha: {delta_alpha}')\n",
    "    print(f'delta_alpha_theory: {delta_alpha_theory}')\n",
    "    return error\n",
    "\n",
    "angles = np.arange(0.01, 0.1, 0.01)\n",
    "errors = []\n",
    "for angle in angles:\n",
    "    errors.append(100 * calculate_angle_shift(np.deg2rad(angle)))\n",
    "\n",
    "fig = px.scatter(x=angles, y=errors) \n",
    "fig.update_layout({\n",
    "    'xaxis_title': 'angle [deg]',\n",
    "    'yaxis_title': 'relative error [%]',\n",
    "    # 'title': 'Been curve for 2 deg',\n",
    "    # 'legend_title': 'Legend Title',\n",
    "    'font': {\n",
    "        'size': 16,\n",
    "    },\n",
    "    'width': 800  ,\n",
    "    'height': 600,\n",
    "    # 'showlegend': False,\n",
    "    # 'grid': {}\n",
    "        \n",
    "    # 'template': 'plotly_white'\n",
    "})\n",
    "\n",
    "fig.show()\n",
    "\n",
    "fig.write_image(\"part1_b.eps\")"
   ]
  },
  {
   "cell_type": "markdown",
   "metadata": {},
   "source": [
    "## part 2"
   ]
  },
  {
   "cell_type": "code",
   "execution_count": null,
   "metadata": {},
   "outputs": [],
   "source": []
  }
 ],
 "metadata": {
  "kernelspec": {
   "display_name": "Python 3",
   "language": "python",
   "name": "python3"
  },
  "language_info": {
   "codemirror_mode": {
    "name": "ipython",
    "version": 3
   },
   "file_extension": ".py",
   "mimetype": "text/x-python",
   "name": "python",
   "nbconvert_exporter": "python",
   "pygments_lexer": "ipython3",
   "version": "3.10.9"
  },
  "orig_nbformat": 4,
  "vscode": {
   "interpreter": {
    "hash": "949777d72b0d2535278d3dc13498b2535136f6dfe0678499012e853ee9abcab1"
   }
  }
 },
 "nbformat": 4,
 "nbformat_minor": 2
}
